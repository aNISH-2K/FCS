{
 "cells": [
  {
   "cell_type": "markdown",
   "metadata": {},
   "source": [
    "# Assignment 1"
   ]
  },
  {
   "cell_type": "code",
   "execution_count": 11,
   "metadata": {},
   "outputs": [],
   "source": [
    "class bank():\n",
    "    ownerName = \"\"\n",
    "    balance = 0 \n",
    "    def __init__(self,ownerName,balance):\n",
    "        self.ownerName = ownerName\n",
    "        self.balance = balance\n",
    "        \n",
    "    def printdetails(self):\n",
    "        print(\"Account holder name is : \",self.ownerName)\n",
    "        print(\"Balance is : \",self.balance)\n",
    "        \n",
    "    def deposit(self,amount):\n",
    "        self.balance += amount\n",
    "        print(\"Balance is : \", self.balance)\n",
    "        \n",
    "    def withdraw(self,amt):\n",
    "        if self.balance>amt:\n",
    "            self.balance-=amt\n",
    "            print(\"Balance is : \",self.balance)\n",
    "        else:\n",
    "            return \"Amount entered is not available.\""
   ]
  },
  {
   "cell_type": "code",
   "execution_count": 12,
   "metadata": {},
   "outputs": [
    {
     "name": "stdout",
     "output_type": "stream",
     "text": [
      "Account holder name is :  Bhavesh\n",
      "Balance is :  40000\n"
     ]
    }
   ],
   "source": [
    "Acc = bank(\"Bhavesh\",40000)\n",
    "Acc.printdetails()"
   ]
  },
  {
   "cell_type": "code",
   "execution_count": 13,
   "metadata": {},
   "outputs": [
    {
     "name": "stdout",
     "output_type": "stream",
     "text": [
      "Balance is :  45000\n"
     ]
    }
   ],
   "source": [
    "Acc.deposit(5000)"
   ]
  },
  {
   "cell_type": "code",
   "execution_count": 14,
   "metadata": {},
   "outputs": [
    {
     "name": "stdout",
     "output_type": "stream",
     "text": [
      "Balance is :  4000\n"
     ]
    }
   ],
   "source": [
    "Acc.withdraw(41000)"
   ]
  },
  {
   "cell_type": "code",
   "execution_count": 15,
   "metadata": {},
   "outputs": [
    {
     "data": {
      "text/plain": [
       "'Amount entered is not available.'"
      ]
     },
     "execution_count": 15,
     "metadata": {},
     "output_type": "execute_result"
    }
   ],
   "source": [
    "Acc.withdraw(5000)"
   ]
  },
  {
   "cell_type": "code",
   "execution_count": 18,
   "metadata": {},
   "outputs": [
    {
     "name": "stdout",
     "output_type": "stream",
     "text": [
      "Account holder name is :  Rajiv\n",
      "Balance is :  25000\n"
     ]
    }
   ],
   "source": [
    "Cust1 = bank(\"Rajiv\",25000)\n",
    "Cust1.printdetails()"
   ]
  },
  {
   "cell_type": "code",
   "execution_count": 19,
   "metadata": {},
   "outputs": [
    {
     "name": "stdout",
     "output_type": "stream",
     "text": [
      "Balance is :  5000\n"
     ]
    }
   ],
   "source": [
    "Cust1.withdraw(20000)"
   ]
  },
  {
   "cell_type": "code",
   "execution_count": 20,
   "metadata": {},
   "outputs": [
    {
     "name": "stdout",
     "output_type": "stream",
     "text": [
      "Balance is :  6000\n"
     ]
    }
   ],
   "source": [
    "Cust1.deposit(1000)"
   ]
  },
  {
   "cell_type": "code",
   "execution_count": null,
   "metadata": {},
   "outputs": [],
   "source": []
  },
  {
   "cell_type": "markdown",
   "metadata": {},
   "source": [
    "# Assignment 2"
   ]
  },
  {
   "cell_type": "code",
   "execution_count": 22,
   "metadata": {},
   "outputs": [],
   "source": [
    "from math import pi\n",
    "from math import sqrt\n",
    "\n",
    "class Cone():\n",
    "    radius = 0.0\n",
    "    height = 0.0\n",
    "    def __init__(self,radius,height):\n",
    "        self.height = height\n",
    "        self.radius = radius\n",
    "    def vol(self):\n",
    "        volume = pi*(self.radius**2)*(self.height/3)\n",
    "        print(\"Volume is : \",volume)\n",
    "    def sarea(self):\n",
    "        base_area = pi * (self.radius**2)\n",
    "        val = (self.radius**2) + (self.height**2)\n",
    "        lateral_area = pi * self.radius * sqrt(val)\n",
    "        print(\"Base Area is : \",base_area)\n",
    "        print(\"Lateral Area is :\",lateral_area)\n",
    "cone = Cone(2,3)"
   ]
  },
  {
   "cell_type": "code",
   "execution_count": 24,
   "metadata": {},
   "outputs": [
    {
     "name": "stdout",
     "output_type": "stream",
     "text": [
      "Volume is :  12.566370614359172\n"
     ]
    }
   ],
   "source": [
    "cone.vol()"
   ]
  },
  {
   "cell_type": "code",
   "execution_count": 26,
   "metadata": {},
   "outputs": [
    {
     "name": "stdout",
     "output_type": "stream",
     "text": [
      "Base Area is :  12.566370614359172\n",
      "Lateral Area is : 22.654346798277953\n"
     ]
    }
   ],
   "source": [
    "cone.sarea()"
   ]
  },
  {
   "cell_type": "code",
   "execution_count": null,
   "metadata": {},
   "outputs": [],
   "source": []
  },
  {
   "cell_type": "code",
   "execution_count": null,
   "metadata": {},
   "outputs": [],
   "source": []
  },
  {
   "cell_type": "code",
   "execution_count": null,
   "metadata": {},
   "outputs": [],
   "source": []
  },
  {
   "cell_type": "markdown",
   "metadata": {},
   "source": [
    "# FCS SILVER PROJECT"
   ]
  },
  {
   "cell_type": "code",
   "execution_count": 27,
   "metadata": {},
   "outputs": [
    {
     "name": "stdout",
     "output_type": "stream",
     "text": [
      "!!!--LET'S BEGIN ROCK PAPER SCISSOR--!!!\n",
      "1.Rock\n",
      "2.Paper\n",
      "3.Scissor\n",
      "4.Exit\n",
      "Enter your choice : rock\n",
      "You win! Rock smashes Scissor\n",
      "Player Score 1\n",
      "Computer Score 0\n",
      "1.Rock\n",
      "2.Paper\n",
      "3.Scissor\n",
      "4.Exit\n",
      "Enter your choice : paper\n",
      "Computer's choice is :  scissor\n",
      "You lose! Scissor cuts Paper\n",
      "Player Score 1\n",
      "Computer Score 1\n",
      "1.Rock\n",
      "2.Paper\n",
      "3.Scissor\n",
      "4.Exit\n",
      "Enter your choice : paper\n",
      "Computer's choice is :  scissor\n",
      "You lose! Scissor cuts Paper\n",
      "Player Score 1\n",
      "Computer Score 2\n",
      "1.Rock\n",
      "2.Paper\n",
      "3.Scissor\n",
      "4.Exit\n",
      "Enter your choice : rock\n",
      "You win! Rock smashes Scissor\n",
      "Player Score 2\n",
      "Computer Score 2\n",
      "1.Rock\n",
      "2.Paper\n",
      "3.Scissor\n",
      "4.Exit\n",
      "Enter your choice : scissor\n",
      "Computer's choice is :  scissor\n",
      "Tie\n",
      "Player Score 3\n",
      "Computer Score 3\n",
      "1.Rock\n",
      "2.Paper\n",
      "3.Scissor\n",
      "4.Exit\n",
      "Enter your choice : exit\n",
      "You have exitted.\n"
     ]
    }
   ],
   "source": [
    "from random import randint\n",
    "\n",
    "\n",
    "t = [\"rock\", \"paper\", \"scissor\"]\n",
    "\n",
    "print(\"!!!--LET'S BEGIN ROCK PAPER SCISSOR--!!!\")\n",
    "\n",
    "computer = t[randint(0,2)]\n",
    "player = False\n",
    "\n",
    "score = 0\n",
    "computerScore = 0\n",
    "\n",
    "while player != True:\n",
    "    player = input(\"1.Rock\\n2.Paper\\n3.Scissor\\n4.Exit\\nEnter your choice : \").lower()\n",
    "    if player==computer:\n",
    "        print(\"Computer's choice is : \",computer)\n",
    "        print(\"Tie\")\n",
    "        score = score+1\n",
    "        computerScore = computerScore + 1\n",
    "        print(\"Player Score\",score)\n",
    "        print(\"Computer Score\",computerScore)\n",
    "        \n",
    "    elif player == 'rock':\n",
    "        if computer == 'paper':\n",
    "            print(\"Computer's choice is : \",computer)\n",
    "            print(\"You lose! Paper covers Rock\")\n",
    "            computerScore = computerScore + 1\n",
    "            print(\"Player Score\",score)\n",
    "            print(\"Computer Score\",computerScore)\n",
    "        else:\n",
    "            print(\"You win! Rock smashes Scissor\")\n",
    "            score = score+1\n",
    "            print(\"Player Score\",score)\n",
    "            print(\"Computer Score\",computerScore)\n",
    "            \n",
    "    elif player == 'paper':\n",
    "        if computer == 'scissor':\n",
    "            print(\"Computer's choice is : \",computer)\n",
    "            print(\"You lose! Scissor cuts Paper\")\n",
    "            computerScore = computerScore + 1\n",
    "            print(\"Player Score\",score)\n",
    "            print(\"Computer Score\",computerScore)\n",
    "        else:\n",
    "            print(\"You win! Paper covers Rock\")\n",
    "            score = score+1\n",
    "            print(\"Player Score\",score)\n",
    "            print(\"Computer Score\",computerScore)\n",
    "            \n",
    "    elif player == 'scissor':\n",
    "        print(\"Computer's choice is : \",computer)\n",
    "        if computer == 'rock':\n",
    "            print(\"You lose! Rock smashes Scissor\")\n",
    "            computerScore = computerScore + 1\n",
    "            print(\"Player Score\",score)\n",
    "            print(\"Computer Score\",computerScore)\n",
    "            \n",
    "        else:\n",
    "            print(\"You win! Scissor cuts Paper\")\n",
    "            score = score+1\n",
    "            print(\"Player Score\",score)\n",
    "            print(\"Computer Score\",computerScore)\n",
    "            \n",
    "    else:\n",
    "        print(\"You have exitted.\")\n",
    "        break\n"
   ]
  }
 ],
 "metadata": {
  "kernelspec": {
   "display_name": "Python 3",
   "language": "python",
   "name": "python3"
  },
  "language_info": {
   "codemirror_mode": {
    "name": "ipython",
    "version": 3
   },
   "file_extension": ".py",
   "mimetype": "text/x-python",
   "name": "python",
   "nbconvert_exporter": "python",
   "pygments_lexer": "ipython3",
   "version": "3.7.6"
  }
 },
 "nbformat": 4,
 "nbformat_minor": 4
}
