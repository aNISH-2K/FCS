{
 "cells": [
  {
   "cell_type": "markdown",
   "metadata": {},
   "source": [
    "# Ouestion 1 "
   ]
  },
  {
   "cell_type": "code",
   "execution_count": 3,
   "metadata": {},
   "outputs": [
    {
     "name": "stdout",
     "output_type": "stream",
     "text": [
      "Enter the Altitude : 4500\n",
      "Bring Down to 1000 ft to land.\n"
     ]
    }
   ],
   "source": [
    "altitude = int(input(\"Enter the Altitude : \"))\n",
    "if altitude >5000:\n",
    "    print(\"Turn Around.\")\n",
    "elif altitude <= 5000 and altitude>=1000:\n",
    "    print(\"Bring Down to 1000 ft to land.\")\n",
    "else:\n",
    "    print(\"Altitude safe for landing.\")"
   ]
  },
  {
   "cell_type": "code",
   "execution_count": 4,
   "metadata": {},
   "outputs": [
    {
     "name": "stdout",
     "output_type": "stream",
     "text": [
      "Enter the Altitude : 6000\n",
      "Turn Around.\n"
     ]
    }
   ],
   "source": [
    "altitude = int(input(\"Enter the Altitude : \"))\n",
    "if altitude >5000:\n",
    "    print(\"Turn Around.\")\n",
    "elif altitude <= 5000 and altitude>=1000:\n",
    "    print(\"Bring Down to 1000 ft to land.\")\n",
    "else:\n",
    "    print(\"Altitude safe for landing.\")"
   ]
  },
  {
   "cell_type": "code",
   "execution_count": 5,
   "metadata": {},
   "outputs": [
    {
     "name": "stdout",
     "output_type": "stream",
     "text": [
      "Enter the Altitude : 800\n",
      "Altitude safe for landing.\n"
     ]
    }
   ],
   "source": [
    "altitude = int(input(\"Enter the Altitude : \"))\n",
    "if altitude >5000:\n",
    "    print(\"Turn Around.\")\n",
    "elif altitude <= 5000 and altitude>=1000:\n",
    "    print(\"Bring Down to 1000 ft to land.\")\n",
    "else:\n",
    "    print(\"Altitude safe for landing.\")"
   ]
  },
  {
   "cell_type": "markdown",
   "metadata": {},
   "source": [
    "# Question 2"
   ]
  },
  {
   "cell_type": "code",
   "execution_count": 7,
   "metadata": {},
   "outputs": [
    {
     "name": "stdout",
     "output_type": "stream",
     "text": [
      "prime numbers between 1 to 200 are:\n",
      "2\n",
      "3\n",
      "5\n",
      "7\n",
      "11\n",
      "13\n",
      "17\n",
      "19\n",
      "23\n",
      "29\n",
      "31\n",
      "37\n",
      "41\n",
      "43\n",
      "47\n",
      "53\n",
      "59\n",
      "61\n",
      "67\n",
      "71\n",
      "73\n",
      "79\n",
      "83\n",
      "89\n",
      "97\n",
      "101\n",
      "103\n",
      "107\n",
      "109\n",
      "113\n",
      "127\n",
      "131\n",
      "137\n",
      "139\n",
      "149\n",
      "151\n",
      "157\n",
      "163\n",
      "167\n",
      "173\n",
      "179\n",
      "181\n",
      "191\n",
      "193\n",
      "197\n",
      "199\n"
     ]
    }
   ],
   "source": [
    "print(\"prime numbers between 1 to 200 are:\")\n",
    "for num in range(1,201):\n",
    "    if num >1:\n",
    "        for i in range(2,num):\n",
    "            if(num%i)==0:\n",
    "                break\n",
    "        else:\n",
    "            print(num)"
   ]
  },
  {
   "cell_type": "markdown",
   "metadata": {},
   "source": [
    "# Question 3"
   ]
  },
  {
   "cell_type": "code",
   "execution_count": 9,
   "metadata": {},
   "outputs": [
    {
     "name": "stdout",
     "output_type": "stream",
     "text": [
      "Armstrong no is :\n",
      "1741725\n"
     ]
    }
   ],
   "source": [
    "print(\"Armstrong no is :\")\n",
    "for num in range(1042000,702648265):\n",
    "    order = len(str(num))\n",
    "    sum = 0\n",
    "    temp = num\n",
    "    while temp > 0:\n",
    "        digit = temp%10\n",
    "        sum += digit ** order\n",
    "        temp //= 10\n",
    "    if num==sum:\n",
    "        print(num)\n",
    "        break"
   ]
  },
  {
   "cell_type": "code",
   "execution_count": null,
   "metadata": {},
   "outputs": [],
   "source": []
  },
  {
   "cell_type": "code",
   "execution_count": null,
   "metadata": {},
   "outputs": [],
   "source": []
  }
 ],
 "metadata": {
  "kernelspec": {
   "display_name": "Python 3",
   "language": "python",
   "name": "python3"
  },
  "language_info": {
   "codemirror_mode": {
    "name": "ipython",
    "version": 3
   },
   "file_extension": ".py",
   "mimetype": "text/x-python",
   "name": "python",
   "nbconvert_exporter": "python",
   "pygments_lexer": "ipython3",
   "version": "3.7.6"
  }
 },
 "nbformat": 4,
 "nbformat_minor": 4
}
