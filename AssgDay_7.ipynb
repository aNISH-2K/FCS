{
 "cells": [
  {
   "cell_type": "markdown",
   "metadata": {},
   "source": [
    "# Assignment 1"
   ]
  },
  {
   "cell_type": "code",
   "execution_count": 11,
   "metadata": {},
   "outputs": [
    {
     "name": "stdout",
     "output_type": "stream",
     "text": [
      "There was an error.\n",
      "Error was : not writable\n",
      "How was your day.\n"
     ]
    }
   ],
   "source": [
    "f = open('a.txt','r')\n",
    "try:\n",
    "    f.write(\"I live in Mumbai.\")\n",
    "except Exception as e:\n",
    "    print(\"There was an error.\")\n",
    "    print(\"Error was :\", e)\n",
    "finally:\n",
    "    f.close()\n",
    "    \n",
    "print(\"How was your day.\")"
   ]
  },
  {
   "cell_type": "markdown",
   "metadata": {},
   "source": [
    "# Assignment 2"
   ]
  },
  {
   "cell_type": "code",
   "execution_count": 17,
   "metadata": {},
   "outputs": [
    {
     "name": "stdout",
     "output_type": "stream",
     "text": [
      "Overwriting prime.py\n"
     ]
    }
   ],
   "source": [
    "%%writefile prime.py\n",
    "\n",
    "'''\n",
    "Program to check whether the number is prime or not\n",
    "'''\n",
    "def isprime(number):\n",
    "    \"\"\"Return True if *number* is prime.\"\"\"\n",
    "    if number <= 1:\n",
    "        return False\n",
    "\n",
    "    for element in range(2, number):\n",
    "        if number % element == 0:\n",
    "            return False\n",
    "\n",
    "    return True"
   ]
  },
  {
   "cell_type": "code",
   "execution_count": 20,
   "metadata": {},
   "outputs": [
    {
     "name": "stdout",
     "output_type": "stream",
     "text": [
      "\n",
      "--------------------------------------------------------------------\n",
      "\n",
      "Your code has been rated at 10.00/10 (previous run: 10.00/10, +0.00)\n",
      "\n",
      "\n",
      "\n"
     ]
    }
   ],
   "source": [
    "!Pylint prime.py"
   ]
  },
  {
   "cell_type": "code",
   "execution_count": 23,
   "metadata": {},
   "outputs": [
    {
     "name": "stdout",
     "output_type": "stream",
     "text": [
      "Overwriting testprime.py\n"
     ]
    }
   ],
   "source": [
    "%%writefile testprime.py\n",
    "'''\n",
    "Testing the file\n",
    "'''\n",
    "import unittest\n",
    "from prime import isprime\n",
    "\n",
    "class Test(unittest.TestCase):\n",
    "    \n",
    "    def testnum1(self):\n",
    "        self.assertTrue(isprime(5))\n",
    "        \n",
    "    def test2(self):\n",
    "        self.assertFalse(isprime(10))\n",
    "        \n",
    "    def test3(self):\n",
    "        self.assertTrue(isprime(23))\n",
    "        \n",
    "if __name__ == \"__main__\":\n",
    "    unittest.main()"
   ]
  },
  {
   "cell_type": "code",
   "execution_count": 25,
   "metadata": {},
   "outputs": [
    {
     "name": "stderr",
     "output_type": "stream",
     "text": [
      "...\n",
      "----------------------------------------------------------------------\n",
      "Ran 3 tests in 0.000s\n",
      "\n",
      "OK\n"
     ]
    }
   ],
   "source": [
    "!Python testprime.py"
   ]
  },
  {
   "cell_type": "code",
   "execution_count": null,
   "metadata": {},
   "outputs": [],
   "source": []
  }
 ],
 "metadata": {
  "kernelspec": {
   "display_name": "Python 3",
   "language": "python",
   "name": "python3"
  },
  "language_info": {
   "codemirror_mode": {
    "name": "ipython",
    "version": 3
   },
   "file_extension": ".py",
   "mimetype": "text/x-python",
   "name": "python",
   "nbconvert_exporter": "python",
   "pygments_lexer": "ipython3",
   "version": "3.7.6"
  }
 },
 "nbformat": 4,
 "nbformat_minor": 4
}
