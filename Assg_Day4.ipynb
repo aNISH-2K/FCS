{
 "cells": [
  {
   "cell_type": "markdown",
   "metadata": {},
   "source": [
    "# Assignment 1"
   ]
  },
  {
   "cell_type": "code",
   "execution_count": 10,
   "metadata": {},
   "outputs": [
    {
     "name": "stdout",
     "output_type": "stream",
     "text": [
      "Enter number of terms you wanna see in Fibonacci Series : 10\n",
      "First 10 numbers in Fibonacci Sequence : \n",
      "0\n",
      "1\n",
      "1\n",
      "2\n",
      "3\n",
      "5\n",
      "8\n",
      "13\n",
      "21\n",
      "34\n"
     ]
    }
   ],
   "source": [
    "def fibo(num):\n",
    "    if num <= 1:\n",
    "        return num\n",
    "    else:\n",
    "        return (fibo(num-1)) + (fibo(num-2))\n",
    "terms = int(input(\"Enter number of terms you wanna see in Fibonacci Series : \"))\n",
    "\n",
    "if terms <= 0:\n",
    "    print(\"Enter a Positive Number\")\n",
    "else:\n",
    "    print(\"First \" + str(terms) + \" numbers in Fibonacci Sequence : \")\n",
    "    for i  in range(terms):\n",
    "        print(fibo(i))"
   ]
  },
  {
   "cell_type": "code",
   "execution_count": 11,
   "metadata": {},
   "outputs": [
    {
     "name": "stdout",
     "output_type": "stream",
     "text": [
      "Enter a No. : 50\n",
      "0\n",
      "1\n",
      "1\n",
      "2\n",
      "3\n",
      "5\n",
      "8\n",
      "13\n",
      "21\n",
      "34\n"
     ]
    }
   ],
   "source": [
    "def fib(nu):\n",
    "    x=0\n",
    "    y=1\n",
    "    while y<nu:\n",
    "        print(x)\n",
    "        t=y\n",
    "        y+=x\n",
    "        x=t\n",
    "    return x\n",
    "print(fib(int(input(\"Enter a No. : \"))))"
   ]
  },
  {
   "cell_type": "markdown",
   "metadata": {},
   "source": [
    "# Assignment 2"
   ]
  },
  {
   "cell_type": "code",
   "execution_count": 3,
   "metadata": {},
   "outputs": [],
   "source": [
    "f = open('my_file.txt', 'r+b')\n",
    "file_content = f.read()\n",
    "f.close()\n"
   ]
  },
  {
   "cell_type": "code",
   "execution_count": 4,
   "metadata": {},
   "outputs": [],
   "source": [
    "f = open('my_file.txt','wb')\n",
    "f.write(b\"I Love LU\")\n",
    "f.close()"
   ]
  },
  {
   "cell_type": "code",
   "execution_count": 5,
   "metadata": {},
   "outputs": [
    {
     "name": "stdout",
     "output_type": "stream",
     "text": [
      "I Love LU\n"
     ]
    }
   ],
   "source": [
    "f = open('my_file.txt','r')\n",
    "print(f.read())\n",
    "f.close()"
   ]
  },
  {
   "cell_type": "code",
   "execution_count": 6,
   "metadata": {},
   "outputs": [],
   "source": [
    "f = open('my_file.txt','ab')\n",
    "f.write(b\"\\n\\nWe love Python classes with LU\")\n",
    "f.close()"
   ]
  },
  {
   "cell_type": "code",
   "execution_count": 7,
   "metadata": {},
   "outputs": [
    {
     "name": "stdout",
     "output_type": "stream",
     "text": [
      "I Love LU\n",
      "\n",
      "We love Python classes with LU\n"
     ]
    }
   ],
   "source": [
    "with open('my_file.txt','r') as file:\n",
    "    print(file.read())"
   ]
  },
  {
   "cell_type": "markdown",
   "metadata": {},
   "source": [
    "# Assignment 3"
   ]
  },
  {
   "cell_type": "code",
   "execution_count": 12,
   "metadata": {},
   "outputs": [
    {
     "name": "stdout",
     "output_type": "stream",
     "text": [
      "1.Action\n",
      "2.Romance\n",
      "3.Horror\n",
      "4.Anime\n",
      "Enter the movie genre : 3\n",
      "['The Nun', 'Conjuring']\n"
     ]
    }
   ],
   "source": [
    "import random\n",
    "\n",
    "l1=['KGF','Avengers','Iron Man','Captain America','Avatar']\n",
    "l2= ['Passenger','Titanic','Space','Veer Zaara']\n",
    "l3=['Conjuring','Conjuring 2','The Nun','Bhoot','Stree']\n",
    "l4=['Toy Story','Toy Story 2','Toy Story 3','Nemo','Pokemon']\n",
    "\n",
    "print(\"1.Action\\n2.Romance\\n3.Horror\\n4.Anime\")\n",
    "ch = int(input(\"Enter the movie genre : \"))\n",
    "\n",
    "if ch == 1:\n",
    "    print(random.sample(l1,2))\n",
    "elif ch == 2:\n",
    "    print(random.sample(l2,2))\n",
    "elif ch == 3:\n",
    "    print(random.sample(l3,2))\n",
    "elif ch == 4:\n",
    "    print(random.sample(l4,2))\n",
    "else:\n",
    "    print(\"Select from above.\")"
   ]
  },
  {
   "cell_type": "code",
   "execution_count": null,
   "metadata": {},
   "outputs": [],
   "source": []
  },
  {
   "cell_type": "code",
   "execution_count": 13,
   "metadata": {},
   "outputs": [
    {
     "name": "stdout",
     "output_type": "stream",
     "text": [
      "1.Action\n",
      "2.Romance\n",
      "3.Horror\n",
      "4.Anime\n",
      "Enter the movie genre : 3\n",
      "['Bhoot', 'Conjuring']\n"
     ]
    }
   ],
   "source": [
    "import random\n",
    "\n",
    "l1=['KGF','Avengers','Iron Man','Captain America','Avatar']\n",
    "l2= ['Passenger','Titanic','Space','Veer Zaara']\n",
    "l3=['Conjuring','Conjuring 2','The Nun','Bhoot','Stree']\n",
    "l4=['Toy Story','Toy Story 2','Toy Story 3','Nemo','Pokemon']\n",
    "\n",
    "print(\"1.Action\\n2.Romance\\n3.Horror\\n4.Anime\")\n",
    "ch = int(input(\"Enter the movie genre : \"))\n",
    "\n",
    "if ch == 1:\n",
    "    print(random.sample(l1,2))\n",
    "elif ch == 2:\n",
    "    print(random.sample(l2,2))\n",
    "elif ch == 3:\n",
    "    print(random.sample(l3,2))\n",
    "elif ch == 4:\n",
    "    print(random.sample(l4,2))\n",
    "else:\n",
    "    print(\"Select from above.\")"
   ]
  },
  {
   "cell_type": "code",
   "execution_count": null,
   "metadata": {},
   "outputs": [],
   "source": []
  }
 ],
 "metadata": {
  "kernelspec": {
   "display_name": "Python 3",
   "language": "python",
   "name": "python3"
  },
  "language_info": {
   "codemirror_mode": {
    "name": "ipython",
    "version": 3
   },
   "file_extension": ".py",
   "mimetype": "text/x-python",
   "name": "python",
   "nbconvert_exporter": "python",
   "pygments_lexer": "ipython3",
   "version": "3.7.6"
  }
 },
 "nbformat": 4,
 "nbformat_minor": 4
}
